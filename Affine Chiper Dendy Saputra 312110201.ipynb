{
  "nbformat": 4,
  "nbformat_minor": 0,
  "metadata": {
    "colab": {
      "provenance": []
    },
    "kernelspec": {
      "name": "python3",
      "display_name": "Python 3"
    },
    "language_info": {
      "name": "python"
    }
  },
  "cells": [
    {
      "cell_type": "code",
      "execution_count": null,
      "metadata": {
        "colab": {
          "base_uri": "https://localhost:8080/"
        },
        "id": "0mI8ZhKgGnRV",
        "outputId": "9dfdd415-cdcb-4d73-f686-78f5ea2e9053"
      },
      "outputs": [
        {
          "output_type": "stream",
          "name": "stdout",
          "text": [
            "Original Text: DendySaputra\n",
            "Encrypted Text: WbuwxThedyoh\n",
            "Decrypted Text: DendySaputra\n"
          ]
        }
      ],
      "source": [
        "def gcd(a, b):\n",
        "    if b == 0:\n",
        "        return a\n",
        "    else:\n",
        "        return gcd(b, a % b)\n",
        "\n",
        "def mod_inverse(a, m):\n",
        "    for x in range(1, m):\n",
        "        if (a * x) % m == 1:\n",
        "            return x\n",
        "    return None\n",
        "\n",
        "def affine_encrypt(text, key):\n",
        "    a, b = key\n",
        "    encrypted_text = \"\"\n",
        "    for char in text:\n",
        "        if char.isalpha():\n",
        "            if char.isupper():\n",
        "                char_offset = ord('A')\n",
        "            else:\n",
        "                char_offset = ord('a')\n",
        "            char_num = ord(char) - char_offset\n",
        "            encrypted_char_num = (a * char_num + b) % 26\n",
        "            encrypted_char = chr(encrypted_char_num + char_offset)\n",
        "            encrypted_text += encrypted_char\n",
        "        else:\n",
        "            encrypted_text += char\n",
        "    return encrypted_text\n",
        "\n",
        "def affine_decrypt(text, key):\n",
        "    a, b = key\n",
        "    decrypted_text = \"\"\n",
        "    a_inverse = mod_inverse(a, 26)\n",
        "    for char in text:\n",
        "        if char.isalpha():\n",
        "            if char.isupper():\n",
        "                char_offset = ord('A')\n",
        "            else:\n",
        "                char_offset = ord('a')\n",
        "            char_num = ord(char) - char_offset\n",
        "            decrypted_char_num = (a_inverse * (char_num - b)) % 26\n",
        "            decrypted_char = chr(decrypted_char_num + char_offset)\n",
        "            decrypted_text += decrypted_char\n",
        "        else:\n",
        "            decrypted_text += char\n",
        "    return decrypted_text\n",
        "\n",
        "if __name__ == \"__main__\":\n",
        "    text = \"DendySaputra\"\n",
        "    key = (5, 7)\n",
        "\n",
        "    encrypted_text = affine_encrypt(text, key)\n",
        "    decrypted_text = affine_decrypt(encrypted_text, key)\n",
        "\n",
        "    print(\"Original Text: \" + text)\n",
        "    print(\"Encrypted Text: \" + encrypted_text)\n",
        "    print(\"Decrypted Text: \" + decrypted_text)\n"
      ]
    }
  ]
}