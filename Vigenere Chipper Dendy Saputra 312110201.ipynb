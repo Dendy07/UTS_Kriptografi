{
  "nbformat": 4,
  "nbformat_minor": 0,
  "metadata": {
    "colab": {
      "provenance": []
    },
    "kernelspec": {
      "name": "python3",
      "display_name": "Python 3"
    },
    "language_info": {
      "name": "python"
    }
  },
  "cells": [
    {
      "cell_type": "code",
      "execution_count": null,
      "metadata": {
        "colab": {
          "base_uri": "https://localhost:8080/"
        },
        "id": "FFW1ujy3cecW",
        "outputId": "4c259aa5-6b94-4421-b669-a83f3367a21c"
      },
      "outputs": [
        {
          "output_type": "stream",
          "name": "stdout",
          "text": [
            "\n",
            "Kata Sandi Terenkripsi ( 123 )\n",
            "\n",
            "Informasi login telah disimpan.\n",
            "Username: Dendy\n",
            "Password: 123\n",
            "Selamat datang, Dendy! Anda berhasil masuk.\n"
          ]
        }
      ],
      "source": [
        "def vigenere_encrypt(plain_text, key):\n",
        "    encrypted_text = \"\"\n",
        "    key_length = len(key)\n",
        "\n",
        "    for i in range(len(plain_text)):\n",
        "        char = plain_text[i]\n",
        "        if char.isalpha():\n",
        "            key_char = key[i % key_length]\n",
        "            shift = ord(key_char) - ord('A')\n",
        "            if char.isupper():\n",
        "                encrypted_char = chr(((ord(char) - ord('A') + shift) % 26) + ord('A'))\n",
        "            else:\n",
        "                encrypted_char = chr(((ord(char) - ord('a') + shift) % 26) + ord('a'))\n",
        "            encrypted_text += encrypted_char\n",
        "        else:\n",
        "            encrypted_text += char\n",
        "\n",
        "    return encrypted_text\n",
        "\n",
        "def vigenere_decrypt(encrypted_text, key):\n",
        "    decrypted_text = \"\"\n",
        "    key_length = len(key)\n",
        "\n",
        "    for i in range(len(encrypted_text)):\n",
        "        char = encrypted_text[i]\n",
        "        if char.isalpha():\n",
        "            key_char = key[i % key_length]\n",
        "            shift = ord(key_char) - ord('A')\n",
        "            if char.isupper():\n",
        "                decrypted_char = chr(((ord(char) - ord('A') - shift + 26) % 26) + ord('A'))\n",
        "            else:\n",
        "                decrypted_char = chr(((ord(char) - ord('a') - shift + 26) % 26) + ord('a'))\n",
        "            decrypted_text += decrypted_char\n",
        "        else:\n",
        "            decrypted_text += char\n",
        "\n",
        "    return decrypted_text\n",
        "\n",
        "# Informasi login\n",
        "username = \"Dendy\"\n",
        "password = \"123\"\n",
        "key = \"hallo\"  # Ganti kunci dengan kunci rahasia yang Anda inginkan\n",
        "\n",
        "# Enkripsi password\n",
        "encrypted_password = vigenere_encrypt(password, key)\n",
        "print(\"\")\n",
        "print(\"Kata Sandi Terenkripsi (\",encrypted_password,\")\")\n",
        "print(\"\")\n",
        "\n",
        "# Simpan username dan password terenkripsi ke dalam file teks\n",
        "with open(\"login_info.txt\", \"w\") as file:\n",
        "    file.write(f\"Username: {username}\\n\")\n",
        "    file.write(f\"Password: {encrypted_password}\\n\")\n",
        "\n",
        "print(\"Informasi login telah disimpan.\")\n",
        "\n",
        "# Kemudian, saat pengguna mencoba masuk\n",
        "input_username = input(\"Username: \")\n",
        "input_password = input(\"Password: \")\n",
        "\n",
        "if input_username == username:\n",
        "    decrypted_password = vigenere_decrypt(encrypted_password, key)\n",
        "    if input_password == decrypted_password:\n",
        "        print(\"Selamat datang, Dendy! Anda berhasil masuk.\")\n",
        "    else:\n",
        "        print(\"Kata sandi salah. Akses ditolak.\")\n",
        "else:\n",
        "    print(\"Username salah. Akses ditolak.\")\n"
      ]
    }
  ]
}