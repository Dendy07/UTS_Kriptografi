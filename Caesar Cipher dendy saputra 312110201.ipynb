{
  "cells": [
    {
      "cell_type": "code",
      "execution_count": null,
      "metadata": {
        "colab": {
          "base_uri": "https://localhost:8080/"
        },
        "id": "kWFTT2939on3",
        "outputId": "0e88d0d6-8b2b-40c8-df2c-ea52cfb124ac"
      },
      "outputs": [
        {
          "output_type": "stream",
          "name": "stdout",
          "text": [
            "Pilih tindakan:\n",
            "1. Enkripsi\n",
            "2. Dekripsi\n",
            "3. Keluar\n",
            "Masukkan pilihan (1/2/3): 1\n",
            "Masukkan teks yang ingin Anda enkripsi: dendy\n",
            "Masukkan jumlah pergeseran (contoh: 3): 3\n",
            "Teks terenkripsi: ghqg|\n",
            "Pilih tindakan:\n",
            "1. Enkripsi\n",
            "2. Dekripsi\n",
            "3. Keluar\n",
            "Masukkan pilihan (1/2/3): 2\n",
            "Masukkan teks yang ingin Anda dekripsi: hallo\n",
            "Masukkan jumlah pergeseran (contoh: 3): 3\n",
            "Teks terdekripsi: e^iil\n",
            "Pilih tindakan:\n",
            "1. Enkripsi\n",
            "2. Dekripsi\n",
            "3. Keluar\n",
            "Masukkan pilihan (1/2/3): 3\n",
            "Terima kasih!\n"
          ]
        }
      ],
      "source": [
        "def caesar_cipher(text, shift):\n",
        "    result = \"\"\n",
        "\n",
        "    for char in text:\n",
        "        # Periksa apakah karakter adalah karakter ASCII\n",
        "        if 0 <= ord(char) <= 255:\n",
        "            # Hitung indeks baru setelah pergeseran\n",
        "            shifted_index = (ord(char) + shift) % 256\n",
        "\n",
        "            # Konversi kembali ke karakter ASCII\n",
        "            result += chr(shifted_index)\n",
        "        else:\n",
        "            # Jika karakter bukan karakter ASCII, tambahkan ke hasil tanpa perubahan\n",
        "            result += char\n",
        "\n",
        "    return result\n",
        "\n",
        "while True:\n",
        "    print(\"Pilih tindakan:\")\n",
        "    print(\"1. Enkripsi\")\n",
        "    print(\"2. Dekripsi\")\n",
        "    print(\"3. Keluar\")\n",
        "\n",
        "    choice = input(\"Masukkan pilihan (1/2/3): \")\n",
        "\n",
        "    if choice == '1':\n",
        "        text = input(\"Masukkan teks yang ingin Anda enkripsi: \")\n",
        "        shift = int(input(\"Masukkan jumlah pergeseran (contoh: 3): \"))\n",
        "        encrypted_text = caesar_cipher(text, shift)\n",
        "        print(\"Teks terenkripsi:\", encrypted_text)\n",
        "    elif choice == '2':\n",
        "        text = input(\"Masukkan teks yang ingin Anda dekripsi: \")\n",
        "        shift = int(input(\"Masukkan jumlah pergeseran (contoh: 3): \"))\n",
        "        decrypted_text = caesar_cipher(text, -shift)\n",
        "        print(\"Teks terdekripsi:\", decrypted_text)\n",
        "    elif choice == '3':\n",
        "        print(\"Terima kasih!\")\n",
        "        break\n",
        "    else:\n",
        "        print(\"Pilihan tidak valid. Silakan pilih 1, 2, atau 3.\")"
      ]
    }
  ],
  "metadata": {
    "colab": {
      "provenance": []
    },
    "kernelspec": {
      "display_name": "Python 3",
      "name": "python3"
    },
    "language_info": {
      "name": "python"
    }
  },
  "nbformat": 4,
  "nbformat_minor": 0
}