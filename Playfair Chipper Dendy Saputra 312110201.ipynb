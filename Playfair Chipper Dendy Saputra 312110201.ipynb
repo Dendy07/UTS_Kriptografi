{
  "nbformat": 4,
  "nbformat_minor": 0,
  "metadata": {
    "colab": {
      "provenance": []
    },
    "kernelspec": {
      "name": "python3",
      "display_name": "Python 3"
    },
    "language_info": {
      "name": "python"
    }
  },
  "cells": [
    {
      "cell_type": "code",
      "execution_count": null,
      "metadata": {
        "colab": {
          "base_uri": "https://localhost:8080/"
        },
        "id": "qyGWPXmsJbon",
        "outputId": "f0f3e2ec-b361-4f77-b9d1-be7e7603ed16"
      },
      "outputs": [
        {
          "output_type": "stream",
          "name": "stdout",
          "text": [
            "Masukkan kunci: FreePalestine\n",
            "Masukkan teks plaintext: dendysaputra\n",
            "Plaintext:\n",
            "dendysaputra\n",
            "Encrypted:\n",
            "OTTHWIFAONEF\n",
            "Decrypted: DENDYSAPUTRA\n"
          ]
        }
      ],
      "source": [
        "def generatePlayfairMatrix(key):\n",
        "    key = key.replace(\" \", \"\").upper()\n",
        "    key = \"\".join(dict.fromkeys(key))  # Remove duplicate letters\n",
        "    alphabet = \"ABCDEFGHIJKLMNOPQRSTUVWXYZ\"\n",
        "    matrix = []\n",
        "\n",
        "    for char in key:\n",
        "        if char not in matrix:\n",
        "            matrix.append(char)\n",
        "\n",
        "    for char in alphabet:\n",
        "        if char not in matrix:\n",
        "            matrix.append(char)\n",
        "\n",
        "    playfair_matrix = [matrix[i:i+5] for i in range(0, 25, 5)]\n",
        "    return playfair_matrix\n",
        "\n",
        "def findChar(matrix, char):\n",
        "    for i in range(5):\n",
        "        for j in range(5):\n",
        "            if matrix[i][j] == char:\n",
        "                return (i, j)\n",
        "\n",
        "def encrypt(plaintext, key):\n",
        "    playfair_matrix = generatePlayfairMatrix(key)\n",
        "    plaintext = plaintext.replace(\" \", \"\").upper()\n",
        "    encrypted = []\n",
        "\n",
        "    if len(plaintext) % 2 != 0:\n",
        "        plaintext += 'X'\n",
        "\n",
        "    for i in range(0, len(plaintext), 2):\n",
        "        char1 = plaintext[i]\n",
        "        char2 = plaintext[i + 1]\n",
        "        row1, col1 = findChar(playfair_matrix, char1)\n",
        "        row2, col2 = findChar(playfair_matrix, char2)\n",
        "\n",
        "        if row1 == row2:\n",
        "            encrypted.append(playfair_matrix[row1][(col1 + 1) % 5])\n",
        "            encrypted.append(playfair_matrix[row2][(col2 + 1) % 5])\n",
        "        elif col1 == col2:\n",
        "            encrypted.append(playfair_matrix[(row1 + 1) % 5][col1])\n",
        "            encrypted.append(playfair_matrix[(row2 + 1) % 5][col2])\n",
        "        else:\n",
        "            encrypted.append(playfair_matrix[row1][col2])\n",
        "            encrypted.append(playfair_matrix[row2][col1])\n",
        "\n",
        "    return \"\".join(encrypted)\n",
        "\n",
        "def decrypt(ciphertext, key):\n",
        "    playfair_matrix = generatePlayfairMatrix(key)\n",
        "    decrypted = []\n",
        "\n",
        "    for i in range(0, len(ciphertext), 2):\n",
        "        char1 = ciphertext[i]\n",
        "        char2 = ciphertext[i + 1]\n",
        "        row1, col1 = findChar(playfair_matrix, char1)\n",
        "        row2, col2 = findChar(playfair_matrix, char2)\n",
        "\n",
        "        if row1 == row2:\n",
        "            decrypted.append(playfair_matrix[row1][(col1 - 1) % 5])\n",
        "            decrypted.append(playfair_matrix[row2][(col2 - 1) % 5])\n",
        "        elif col1 == col2:\n",
        "            decrypted.append(playfair_matrix[(row1 - 1) % 5][col1])\n",
        "            decrypted.append(playfair_matrix[(row2 - 1) % 5][col2])\n",
        "        else:\n",
        "            decrypted.append(playfair_matrix[row1][col2])\n",
        "            decrypted.append(playfair_matrix[row2][col1])\n",
        "\n",
        "    return \"\".join(decrypted)\n",
        "\n",
        "def main():\n",
        "    key = input(\"Masukkan kunci: \").upper()\n",
        "    plaintext = input(\"Masukkan teks plaintext: \")\n",
        "\n",
        "    playfair_matrix = generatePlayfairMatrix(key)\n",
        "    encrypted = encrypt(plaintext, key)\n",
        "    decrypted = decrypt(encrypted, key)\n",
        "\n",
        "    print(\"Plaintext:\")\n",
        "    print(plaintext)\n",
        "    print(\"Encrypted:\")\n",
        "    print(encrypted)\n",
        "    print(\"Decrypted:\", decrypted)\n",
        "\n",
        "if __name__ == \"__main__\":\n",
        "    main()\n"
      ]
    }
  ]
}