{
  "nbformat": 4,
  "nbformat_minor": 0,
  "metadata": {
    "colab": {
      "provenance": []
    },
    "kernelspec": {
      "name": "python3",
      "display_name": "Python 3"
    },
    "language_info": {
      "name": "python"
    }
  },
  "cells": [
    {
      "cell_type": "code",
      "source": [
        "def polyalphabetic_cipher(text, key):\n",
        "    result = \"\"\n",
        "    key_length = len(key)\n",
        "\n",
        "    for i in range(len(text)):\n",
        "        char = text[i]\n",
        "        if char.isalpha():\n",
        "            # Tentukan pergeseran berdasarkan karakter kunci\n",
        "            key_char = key[i % key_length]\n",
        "            shift = ord(key_char.lower()) - ord('a')\n",
        "\n",
        "            if char.isupper():\n",
        "                # Enkripsi huruf besar\n",
        "                result += chr((ord(char) - shift - ord('A')) % 26 + ord('A'))\n",
        "            else:\n",
        "                # Enkripsi huruf kecil\n",
        "                result += chr((ord(char) - shift - ord('a')) % 26 + ord('a'))\n",
        "        else:\n",
        "            # Biarkan karakter selain huruf tidak berubah\n",
        "            result += char\n",
        "\n",
        "    return result\n",
        "\n",
        "def main():\n",
        "    plaintext = input(\"Masukkan teks yang akan dienkripsi: \")\n",
        "    key = input(\"Masukkan kunci enkripsi: \")\n",
        "\n",
        "    ciphertext = polyalphabetic_cipher(plaintext, key)\n",
        "    print(\"Teks terenkripsi:\", ciphertext)\n",
        "\n",
        "if __name__ == \"__main__\":\n",
        "    main()\n"
      ],
      "metadata": {
        "id": "jjfTyRaXN5zn",
        "colab": {
          "base_uri": "https://localhost:8080/"
        },
        "outputId": "7be8e432-6379-4edf-a161-5e83dd85a18c"
      },
      "execution_count": null,
      "outputs": [
        {
          "output_type": "stream",
          "name": "stdout",
          "text": [
            "Masukkan teks yang akan dienkripsi: dendy\n",
            "Masukkan kunci enkripsi: 123\n",
            "Teks terenkripsi: zzhzt\n"
          ]
        }
      ]
    }
  ]
}